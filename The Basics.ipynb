{
 "cells": [
  {
   "cell_type": "markdown",
   "metadata": {},
   "source": [
    "### Challenges from page 14"
   ]
  },
  {
   "cell_type": "code",
   "execution_count": 3,
   "metadata": {},
   "outputs": [
    {
     "name": "stdout",
     "output_type": "stream",
     "text": [
      "What is your name?Gian\n",
      "Hello Gian\n"
     ]
    }
   ],
   "source": [
    "# Case 001\n",
    "name = input('What is your name?')\n",
    "print('Hello', name)"
   ]
  },
  {
   "cell_type": "code",
   "execution_count": 4,
   "metadata": {},
   "outputs": [
    {
     "name": "stdout",
     "output_type": "stream",
     "text": [
      "What is your name?Gian\n",
      "What is your surname?Tejada\n",
      "Hello  Gian Tejada\n"
     ]
    }
   ],
   "source": [
    "# Case 002\n",
    "name_1 = input('What is your name?')\n",
    "surname = input('What is your surname?')\n",
    "print( 'Hello ', name_1, surname)"
   ]
  },
  {
   "cell_type": "code",
   "execution_count": 6,
   "metadata": {},
   "outputs": [
    {
     "name": "stdout",
     "output_type": "stream",
     "text": [
      "What do you call a bear with no teeth \n",
      "A gummy bear\n"
     ]
    }
   ],
   "source": [
    "# Case 003\n",
    "print('What do you call a bear with no teeth \\nA gummy bear')"
   ]
  },
  {
   "cell_type": "code",
   "execution_count": 7,
   "metadata": {},
   "outputs": [
    {
     "name": "stdout",
     "output_type": "stream",
     "text": [
      "Pick a number1\n",
      "Pick a number2\n",
      "The sum is:  3\n"
     ]
    }
   ],
   "source": [
    "# Case 004\n",
    "a = int(input('Pick a number'))\n",
    "b = int(input('Pick a number'))\n",
    "print('The total is: ', a+b )"
   ]
  },
  {
   "cell_type": "code",
   "execution_count": 8,
   "metadata": {},
   "outputs": [
    {
     "name": "stdout",
     "output_type": "stream",
     "text": [
      "Pick a number3\n",
      "Pick a number4\n",
      "Pick a number5\n",
      "The answer is:  35\n"
     ]
    }
   ],
   "source": [
    "# Case 005\n",
    "c = int(input('Pick a number'))\n",
    "d = int(input('Pick a number'))\n",
    "e = int(input('Pick a number'))\n",
    "print('The answer is: ', (c+d)*e )"
   ]
  },
  {
   "cell_type": "code",
   "execution_count": 10,
   "metadata": {},
   "outputs": [
    {
     "name": "stdout",
     "output_type": "stream",
     "text": [
      "how many slices of pizza you started with8\n",
      "how many slices you have eaten4\n",
      "You have let  4  slices to eate. Enjoy it :)\n"
     ]
    }
   ],
   "source": [
    "# Case 006\n",
    "start = int(input('how many slices of pizza you started with')) \n",
    "eaten = int(input('how many slices you have eaten'))\n",
    "print('You have let ', start - eaten,' slices to eate. Enjoy it :)')"
   ]
  },
  {
   "cell_type": "code",
   "execution_count": 13,
   "metadata": {},
   "outputs": [
    {
     "name": "stdout",
     "output_type": "stream",
     "text": [
      "What is your name?jj\n",
      "What is your age?13\n",
      "Gian next birthday you will be 14\n"
     ]
    }
   ],
   "source": [
    "# Case 007\n",
    "name_2 = input('What is your name?')\n",
    "age = int(input('What is your age?'))+1\n",
    "print(name, 'next birthday you will be', age)"
   ]
  },
  {
   "cell_type": "code",
   "execution_count": 14,
   "metadata": {},
   "outputs": [
    {
     "name": "stdout",
     "output_type": "stream",
     "text": [
      "how much is the bill100\n",
      "how many diners are you?4\n",
      "Each of you will pay:  25.0\n"
     ]
    }
   ],
   "source": [
    "# Case 008\n",
    "bill = int(input('how much is the bill')) \n",
    "diners = int(input('how many diners are you?'))\n",
    "print('Each of you will pay: ', bill/diners)"
   ]
  },
  {
   "cell_type": "code",
   "execution_count": 16,
   "metadata": {},
   "outputs": [
    {
     "name": "stdout",
     "output_type": "stream",
     "text": [
      "Tell us a number of days to convert4\n",
      "4  days has 96  hours,  5760  minutes  345600  and seconds\n"
     ]
    }
   ],
   "source": [
    "# Case 009\n",
    "cc = int(input('Tell us a number of days to convert'))\n",
    "hrs= cc*24\n",
    "minu = hrs*60\n",
    "sec = minu*60\n",
    "print(cc,' days has',hrs,' hours, ',minu,' minutes ',sec,' and seconds')"
   ]
  },
  {
   "cell_type": "code",
   "execution_count": 20,
   "metadata": {},
   "outputs": [
    {
     "name": "stdout",
     "output_type": "stream",
     "text": [
      "Insert a weight in kilograms to convert it in pounds1\n",
      "In 1  kilograms are  2204  pounds\n"
     ]
    }
   ],
   "source": [
    "# Case 010\n",
    "kg = int(input('Insert a weight in kilograms to convert it in pounds'))\n",
    "print('In', kg,' kilograms are ', kg*2204, ' pounds')"
   ]
  },
  {
   "cell_type": "code",
   "execution_count": 23,
   "metadata": {},
   "outputs": [
    {
     "name": "stdout",
     "output_type": "stream",
     "text": [
      "Pick a number over 100115\n",
      "Pick a number under 107\n",
      "7  can fit  16  times in  115\n"
     ]
    }
   ],
   "source": [
    "# Case 011\n",
    "numb1 = int(input('Pick a number over 100'))\n",
    "numb2 = int(input('Pick a number under 10'))\n",
    "print(numb2, ' can fit ',numb1//numb2,' times in ',numb1)"
   ]
  }
 ],
 "metadata": {
  "kernelspec": {
   "display_name": "Python 3",
   "language": "python",
   "name": "python3"
  },
  "language_info": {
   "codemirror_mode": {
    "name": "ipython",
    "version": 3
   },
   "file_extension": ".py",
   "mimetype": "text/x-python",
   "name": "python",
   "nbconvert_exporter": "python",
   "pygments_lexer": "ipython3",
   "version": "3.7.4"
  }
 },
 "nbformat": 4,
 "nbformat_minor": 2
}
