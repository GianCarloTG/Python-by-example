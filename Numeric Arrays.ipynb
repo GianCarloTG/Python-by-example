{
 "cells": [
  {
   "cell_type": "markdown",
   "metadata": {},
   "source": [
    "Challenges from page 74\n"
   ]
  },
  {
   "cell_type": "code",
   "execution_count": 5,
   "metadata": {},
   "outputs": [
    {
     "name": "stdout",
     "output_type": "stream",
     "text": [
      "Type a number please 1\n",
      "Type a number please 2\n",
      "Type a number please 3\n",
      "Type a number please 4\n",
      "Type a number please 5\n",
      "array('i', [5, 4, 3, 2, 1])\n"
     ]
    }
   ],
   "source": [
    "# Case 088\n",
    "from array import *\n",
    "\n",
    "new_array = array('i',[])\n",
    "for i in range(0,5):\n",
    "    a = int(input('Type a number please '))\n",
    "    new_array.append(a)\n",
    "    \n",
    "new_array.reverse()\n",
    "print(new_array)"
   ]
  },
  {
   "cell_type": "code",
   "execution_count": 13,
   "metadata": {},
   "outputs": [
    {
     "name": "stdout",
     "output_type": "stream",
     "text": [
      "1\n",
      "62\n",
      "30\n",
      "33\n",
      "83\n",
      "5\n"
     ]
    }
   ],
   "source": [
    "# Case 089\n",
    "import random as rd\n",
    "\n",
    "array1 = array('i',[])\n",
    "r1 = rd.randint(0,100)\n",
    "array1.append(r1)\n",
    "r2 = rd.randint(0,100)\n",
    "array1.append(r2)\n",
    "r3 = rd.randint(0,100)\n",
    "array1.append(r3)\n",
    "r4 = rd.randint(0,100)\n",
    "array1.append(r4)\n",
    "r5 = rd.randint(0,100)\n",
    "array1.append(r5)\n",
    "\n",
    "for i in array1:\n",
    "    print(i)"
   ]
  },
  {
   "cell_type": "code",
   "execution_count": 18,
   "metadata": {},
   "outputs": [
    {
     "name": "stdout",
     "output_type": "stream",
     "text": [
      "Enter a number between 10 and 20  10\n",
      "Enter a number between 10 and 20  11\n",
      "Enter a number between 10 and 20  12\n",
      "Enter a number between 10 and 20  13\n",
      "Enter a number between 10 and 20  14\n",
      "\n",
      "\n",
      "Thank you\n",
      "\n",
      "\n",
      "10\n",
      "11\n",
      "12\n",
      "13\n",
      "14\n"
     ]
    }
   ],
   "source": [
    "# Case 090\n",
    "array2 = array('i',[])\n",
    "\n",
    "while len(array2) != 5:\n",
    "    b =int(input('Enter a number between 10 and 20  '))\n",
    "    if b>=10 and b<=20:\n",
    "        array2.append(b)\n",
    "    else:\n",
    "        print('Outside the range')\n",
    "print('\\n')        \n",
    "print('Thank you')\n",
    "print('\\n')   \n",
    "for i in array2:\n",
    "    print(i)"
   ]
  },
  {
   "cell_type": "code",
   "execution_count": 26,
   "metadata": {},
   "outputs": [
    {
     "name": "stdout",
     "output_type": "stream",
     "text": [
      "array('i', [1, 2, 2, 3, 4])\n",
      "Pick one of my numbers 2\n",
      "The number you have picked appers  2 times in my list.\n"
     ]
    }
   ],
   "source": [
    "# Case 091\n",
    "array3 = array('i',[1,2,2,3,4])\n",
    "print(array3)\n",
    "c = int(input('Pick one of my numbers '))\n",
    "d = array3.count(c)\n",
    "print('The number you have picked appers ',d, 'times in my list.')"
   ]
  },
  {
   "cell_type": "code",
   "execution_count": 33,
   "metadata": {},
   "outputs": [
    {
     "name": "stdout",
     "output_type": "stream",
     "text": [
      "Type a number 1\n",
      "Type a number 2\n",
      "Type a number 3\n",
      "array('i', [1, 2, 3])\n",
      "array('i', [86, 23, 92, 4, 8])\n",
      "1\n",
      "2\n",
      "3\n",
      "4\n",
      "8\n",
      "23\n",
      "86\n",
      "92\n"
     ]
    }
   ],
   "source": [
    "# Case 092\n",
    "array4 = array('i',[])\n",
    "for i in range(0,3):\n",
    "    f = int(input('Type a number '))\n",
    "    array4.append(f)\n",
    "    \n",
    "    \n",
    "array5 = array('i',[])\n",
    "for i in range(0,5):\n",
    "    r6 = rd.randint(0,100)\n",
    "    array5.append(r6)\n",
    "\n",
    "print(array4)\n",
    "print(array5)\n",
    "\n",
    "for i in array4:\n",
    "    array5.append(i)\n",
    "\n",
    "array6= sorted(array5)\n",
    "for i in array6:\n",
    "    print(i)"
   ]
  },
  {
   "cell_type": "code",
   "execution_count": 35,
   "metadata": {},
   "outputs": [
    {
     "name": "stdout",
     "output_type": "stream",
     "text": [
      "Type a number please 1\n",
      "Type a number please 2\n",
      "Type a number please 3\n",
      "Type a number please 4\n",
      "Type a number please 5\n",
      "[1, 2, 3, 4, 5]\n",
      "Remove one of my numbers 1\n",
      "[2, 3, 4, 5]\n"
     ]
    }
   ],
   "source": [
    "# Case 093\n",
    "array7= array('i',[])\n",
    "for i in range(0,5):\n",
    "    g = int(input('Type a number please '))\n",
    "    array7.append(g)\n",
    "    \n",
    "array8= sorted(array7)\n",
    "print(array8)\n",
    "h = int(input('Remove one of my numbers '))\n",
    "array8.remove(h)\n",
    "print(array8)"
   ]
  },
  {
   "cell_type": "code",
   "execution_count": 45,
   "metadata": {},
   "outputs": [
    {
     "name": "stdout",
     "output_type": "stream",
     "text": [
      "array('i', [11, 22, 33, 45, 53])\n",
      "Pick one of my numbers 53\n",
      "The position is:  5\n"
     ]
    }
   ],
   "source": [
    "# Case 094\n",
    "array9 = array('i',[11,22,33,45,53])\n",
    "print(array9)\n",
    "i = int(input('Pick one of my numbers '))\n",
    "cons = True\n",
    "while cons == True:\n",
    "    if i not in array9:\n",
    "        i = int(input('Pick one of my numbers '))\n",
    "        cons = True\n",
    "    else:\n",
    "        pos = array9.index(i)\n",
    "        cons = False\n",
    "    \n",
    "print('The position is: ',pos+1)"
   ]
  },
  {
   "cell_type": "code",
   "execution_count": 53,
   "metadata": {},
   "outputs": [
    {
     "name": "stdout",
     "output_type": "stream",
     "text": [
      "array('d', [11.23, 23.32, 42.59, 51.54, 89.99])\n",
      "Enter a whole number between 2 and 5  2\n",
      "array('d', [5.62, 11.66, 21.3, 25.77, 44.99])\n"
     ]
    }
   ],
   "source": [
    "# Case 095\n",
    "array10=array('d',[11.23,23.32,42.59,51.54,89.99])\n",
    "print(array10)\n",
    "array11 = array('d',[])\n",
    "\n",
    "j =int(input('Enter a whole number between 2 and 5  '))\n",
    "cons1 = True\n",
    "while cons1 == True:\n",
    "    if j>=2 and j<=5:\n",
    "        for i in array10:\n",
    "            k = round(i/j,2)\n",
    "            array11.append(k)\n",
    "        cons1= False\n",
    "    else:\n",
    "        print('The number is out of the range')\n",
    "        j =int(input('Enter a whole number between 2 and 5  '))\n",
    "        cons1= True\n",
    "        \n",
    "print(array11)"
   ]
  },
  {
   "cell_type": "code",
   "execution_count": null,
   "metadata": {},
   "outputs": [],
   "source": []
  }
 ],
 "metadata": {
  "kernelspec": {
   "display_name": "Python 3",
   "language": "python",
   "name": "python3"
  },
  "language_info": {
   "codemirror_mode": {
    "name": "ipython",
    "version": 3
   },
   "file_extension": ".py",
   "mimetype": "text/x-python",
   "name": "python",
   "nbconvert_exporter": "python",
   "pygments_lexer": "ipython3",
   "version": "3.7.4"
  }
 },
 "nbformat": 4,
 "nbformat_minor": 2
}
