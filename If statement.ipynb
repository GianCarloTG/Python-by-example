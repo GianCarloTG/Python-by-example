{
 "cells": [
  {
   "cell_type": "markdown",
   "metadata": {},
   "source": [
    "### Challenges from page 21"
   ]
  },
  {
   "cell_type": "code",
   "execution_count": 3,
   "metadata": {},
   "outputs": [
    {
     "name": "stdout",
     "output_type": "stream",
     "text": [
      "Tell us a number2\n",
      "Tell us a second number1\n",
      "1 2\n"
     ]
    }
   ],
   "source": [
    "#case 012\n",
    "a = int(input('Tell us a number'))\n",
    "b = int(input('Tell us a second number'))\n",
    "if a > b:\n",
    "    print(b, a)\n",
    "else:\n",
    "    print(a, b)"
   ]
  },
  {
   "cell_type": "code",
   "execution_count": 6,
   "metadata": {},
   "outputs": [
    {
     "name": "stdout",
     "output_type": "stream",
     "text": [
      "Tell us a number under 2021\n",
      "Too high!!!\n"
     ]
    }
   ],
   "source": [
    "#case 013\n",
    "c = int(input('Tell us a number under 20'))\n",
    "if c >= 20:\n",
    "    print('Too high!!!')\n",
    "else:\n",
    "    print('Thank you')"
   ]
  },
  {
   "cell_type": "code",
   "execution_count": 7,
   "metadata": {},
   "outputs": [
    {
     "name": "stdout",
     "output_type": "stream",
     "text": [
      "Tell us a number between 10 and 2011\n",
      "Thank you\n"
     ]
    }
   ],
   "source": [
    "#case 014\n",
    "d = int(input('Tell us a number between 10 and 20'))\n",
    "if d>= 10 and d<= 20:\n",
    "    print('Thank you')\n",
    "else:\n",
    "    print('Incorrect answer')"
   ]
  },
  {
   "cell_type": "code",
   "execution_count": 10,
   "metadata": {},
   "outputs": [
    {
     "name": "stdout",
     "output_type": "stream",
     "text": [
      "What is your favourite color?RED\n",
      "I like red too :)\n"
     ]
    }
   ],
   "source": [
    "#Case 015\n",
    "color = input('What is your favourite color?')\n",
    "color = color.lower()\n",
    "if color == 'red':\n",
    "    print('I like red too :)')\n",
    "else: \n",
    "    print('I don\\'t like', color,' ,I prefer red ')"
   ]
  },
  {
   "cell_type": "code",
   "execution_count": 13,
   "metadata": {},
   "outputs": [
    {
     "name": "stdout",
     "output_type": "stream",
     "text": [
      "is it raining? yes\n",
      "Is it windy? no\n",
      "Take an umbrella\n"
     ]
    }
   ],
   "source": [
    "#Case 016\n",
    "rain = input('is it raining? ')\n",
    "rain = rain.lower()\n",
    "if rain == 'yes':\n",
    "    windy = input('Is it windy? ')\n",
    "    windy = windy.lower()\n",
    "    if windy == 'yes':\n",
    "        print('It is too windy for an umbrella')\n",
    "    else:\n",
    "        print('Take an umbrella')\n",
    "else:\n",
    "    print('Enjoy your day')"
   ]
  },
  {
   "cell_type": "code",
   "execution_count": 23,
   "metadata": {},
   "outputs": [
    {
     "name": "stdout",
     "output_type": "stream",
     "text": [
      "What is your age 16\n",
      "You can buy a lottery ticket\n"
     ]
    }
   ],
   "source": [
    "#Case 017\n",
    "age = int(input('What is your age '))\n",
    "if age >= 18:\n",
    "    print('You can vote! :D')\n",
    "else:\n",
    "    if age == 17:\n",
    "        print('You can learn to drive')\n",
    "    if age == 16:\n",
    "        print('You can buy a lottery ticket')\n",
    "    if age < 16:\n",
    "        print('You can go Trick-or-Treating')\n",
    "    \n",
    "    \n"
   ]
  },
  {
   "cell_type": "code",
   "execution_count": 27,
   "metadata": {},
   "outputs": [
    {
     "name": "stdout",
     "output_type": "stream",
     "text": [
      "Tell us a number 20\n",
      "Correct :)\n"
     ]
    }
   ],
   "source": [
    "#Case 018\n",
    "f = int(input('Tell us a number '))\n",
    "if f < 10:\n",
    "    print('Too low!!!')\n",
    "else:\n",
    "    if f<=20:\n",
    "        print('Correct :)')\n",
    "    else:\n",
    "        print('Too high :(')\n",
    "    \n"
   ]
  },
  {
   "cell_type": "code",
   "execution_count": 33,
   "metadata": {},
   "outputs": [
    {
     "name": "stdout",
     "output_type": "stream",
     "text": [
      "Pick 1, 2 or 3 3\n",
      "Error message\n"
     ]
    }
   ],
   "source": [
    "#Case 018\n",
    "g = int((input('Pick 1, 2 or 3 ')))\n",
    "if g==1:\n",
    "    print('Thank you')\n",
    "else:\n",
    "    if g == 2:\n",
    "        print('Well done')\n",
    "    if g == 3:\n",
    "        print('Error message')"
   ]
  },
  {
   "cell_type": "code",
   "execution_count": null,
   "metadata": {},
   "outputs": [],
   "source": []
  }
 ],
 "metadata": {
  "kernelspec": {
   "display_name": "Python 3",
   "language": "python",
   "name": "python3"
  },
  "language_info": {
   "codemirror_mode": {
    "name": "ipython",
    "version": 3
   },
   "file_extension": ".py",
   "mimetype": "text/x-python",
   "name": "python",
   "nbconvert_exporter": "python",
   "pygments_lexer": "ipython3",
   "version": "3.7.4"
  }
 },
 "nbformat": 4,
 "nbformat_minor": 2
}
