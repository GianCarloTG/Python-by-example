{
 "cells": [
  {
   "cell_type": "markdown",
   "metadata": {},
   "source": [
    "### Challenges from page 37"
   ]
  },
  {
   "cell_type": "code",
   "execution_count": 2,
   "metadata": {},
   "outputs": [
    {
     "name": "stdout",
     "output_type": "stream",
     "text": [
      "What's your name?jojo\n",
      "jojo\n",
      "jojo\n",
      "jojo\n"
     ]
    }
   ],
   "source": [
    "# Case 035\n",
    "n = input('What\\'s your name?')\n",
    "for i in range(3):\n",
    "          print(n)"
   ]
  },
  {
   "cell_type": "code",
   "execution_count": 4,
   "metadata": {},
   "outputs": [
    {
     "name": "stdout",
     "output_type": "stream",
     "text": [
      "What's your name?jojo\n",
      "How many times would like your name to be displayed?2\n",
      "jojo\n",
      "jojo\n"
     ]
    }
   ],
   "source": [
    "# Case 036\n",
    "n1 = input('What\\'s your name?')\n",
    "t = int(input('How many times would like your name to be displayed?'))\n",
    "for i in range(t):\n",
    "          print(n)"
   ]
  },
  {
   "cell_type": "code",
   "execution_count": 8,
   "metadata": {},
   "outputs": [
    {
     "name": "stdout",
     "output_type": "stream",
     "text": [
      "What's your name? eqtqerqer\n",
      "e\n",
      "q\n",
      "t\n",
      "q\n",
      "e\n",
      "r\n",
      "q\n",
      "e\n",
      "r\n"
     ]
    }
   ],
   "source": [
    "# Case 037\n",
    "n2 = input('What\\'s your name? ')\n",
    "for i in range(len(n2)):\n",
    "    print(n2[i])"
   ]
  },
  {
   "cell_type": "code",
   "execution_count": 9,
   "metadata": {},
   "outputs": [
    {
     "name": "stdout",
     "output_type": "stream",
     "text": [
      "What's your name? jojo\n",
      "Tell me a number2\n",
      "j\n",
      "o\n",
      "j\n",
      "o\n",
      "j\n",
      "o\n",
      "j\n",
      "o\n"
     ]
    }
   ],
   "source": [
    "# Case 038\n",
    "n3 = input('What\\'s your name? ')\n",
    "t1 = int(input('Tell me a number'))\n",
    "for j in range(t1):\n",
    "    for i in range(len(n3)):\n",
    "        print(n3[i])"
   ]
  },
  {
   "cell_type": "code",
   "execution_count": 11,
   "metadata": {},
   "outputs": [
    {
     "name": "stdout",
     "output_type": "stream",
     "text": [
      "Tell me a number between 1 and 125\n",
      "5  x  0  =  0\n",
      "5  x  1  =  5\n",
      "5  x  2  =  10\n",
      "5  x  3  =  15\n",
      "5  x  4  =  20\n",
      "5  x  5  =  25\n",
      "5  x  6  =  30\n",
      "5  x  7  =  35\n",
      "5  x  8  =  40\n",
      "5  x  9  =  45\n",
      "5  x  10  =  50\n",
      "5  x  11  =  55\n",
      "5  x  12  =  60\n"
     ]
    }
   ],
   "source": [
    "# Case 039\n",
    "t2 = int(input('Tell me a number between 1 and 12'))\n",
    "for i in range(13):\n",
    "    x = i*t2\n",
    "    print(t2,' x ', i,' = ', x)"
   ]
  },
  {
   "cell_type": "code",
   "execution_count": 14,
   "metadata": {},
   "outputs": [
    {
     "name": "stdout",
     "output_type": "stream",
     "text": [
      "Tell me a number below 50 5\n",
      "5\n",
      "4\n",
      "3\n",
      "2\n",
      "1\n"
     ]
    }
   ],
   "source": [
    "# Case 040\n",
    "t3 = int(input('Tell me a number below 50 '))\n",
    "for i in range(t3):\n",
    "    print(t3-i)"
   ]
  },
  {
   "cell_type": "code",
   "execution_count": 17,
   "metadata": {},
   "outputs": [
    {
     "name": "stdout",
     "output_type": "stream",
     "text": [
      "What's your name? q\n",
      "Tell me a number 1\n",
      "q\n"
     ]
    }
   ],
   "source": [
    "# Case 041\n",
    "n4 = input('What\\'s your name? ')\n",
    "t4 = int(input('Tell me a number '))\n",
    "if t4 < 10:\n",
    "    for i in range(t4):\n",
    "        print(n4)\n",
    "else:\n",
    "    for i in range(3):\n",
    "        print('Too high')"
   ]
  },
  {
   "cell_type": "code",
   "execution_count": 24,
   "metadata": {},
   "outputs": [
    {
     "name": "stdout",
     "output_type": "stream",
     "text": [
      "Enter a number 5\n",
      "Would you like to add this number to the total? Y/N Y\n",
      "Enter a number 2\n",
      "Would you like to add this number to the total? Y/N Y\n",
      "Enter a number 1\n",
      "Would you like to add this number to the total? Y/N N\n",
      "Enter a number 5\n",
      "Would you like to add this number to the total? Y/N Y\n",
      "Enter a number 3\n",
      "Would you like to add this number to the total? Y/N Y\n",
      "15\n"
     ]
    }
   ],
   "source": [
    "# Case 042\n",
    "total = 0\n",
    "for i in range(5):\n",
    "    a = int(input('Enter a number '))\n",
    "    r = input('Would you like to add this number to the total? Y/N ')\n",
    "    if r =='Y':\n",
    "            total = total + a\n",
    "    if r =='N':\n",
    "            total = total\n",
    "print(total)"
   ]
  },
  {
   "cell_type": "code",
   "execution_count": 32,
   "metadata": {},
   "outputs": [
    {
     "name": "stdout",
     "output_type": "stream",
     "text": [
      "Wich direction would you like to count [up/down]? up\n",
      "What's the top number5\n",
      "1\n",
      "2\n",
      "3\n",
      "4\n",
      "5\n"
     ]
    }
   ],
   "source": [
    "# Case 043\n",
    "d = input('Wich direction would you like to count [up/down]? ')\n",
    "if d == 'up':\n",
    "    q = int(input('What\\'s the top number'))\n",
    "    for i in range(q):\n",
    "        print(i+1)\n",
    "if d == 'down':\n",
    "    w = int(input('Enter a number below 20'))\n",
    "    for i in range(w):\n",
    "        print(w-i)\n",
    "else:\n",
    "    print('Choose again :( ')"
   ]
  },
  {
   "cell_type": "code",
   "execution_count": 35,
   "metadata": {},
   "outputs": [
    {
     "name": "stdout",
     "output_type": "stream",
     "text": [
      "how many people the user wants to invite to a party? 2\n",
      "What are their names? kk\n",
      "kk  has been invited\n",
      "What are their names? joj\n",
      "joj  has been invited\n"
     ]
    }
   ],
   "source": [
    "# Case 044\n",
    "p = int(input('how many people the user wants to invite to a party? '))\n",
    "if p < 10:\n",
    "    for i in range(p):\n",
    "        nn = input('What are their names? ')\n",
    "        print(nn, ' has been invited')\n",
    "else:\n",
    "    print('Too many people ')"
   ]
  }
 ],
 "metadata": {
  "kernelspec": {
   "display_name": "Python 3",
   "language": "python",
   "name": "python3"
  },
  "language_info": {
   "codemirror_mode": {
    "name": "ipython",
    "version": 3
   },
   "file_extension": ".py",
   "mimetype": "text/x-python",
   "name": "python",
   "nbconvert_exporter": "python",
   "pygments_lexer": "ipython3",
   "version": "3.7.4"
  }
 },
 "nbformat": 4,
 "nbformat_minor": 2
}
