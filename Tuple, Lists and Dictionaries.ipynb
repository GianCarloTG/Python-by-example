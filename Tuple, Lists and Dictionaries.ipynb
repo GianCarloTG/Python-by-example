{
 "cells": [
  {
   "cell_type": "markdown",
   "metadata": {},
   "source": [
    "Challenges from page 63"
   ]
  },
  {
   "cell_type": "code",
   "execution_count": null,
   "metadata": {},
   "outputs": [],
   "source": [
    "# Case 069\n",
    "countries = ('spain', 'peru', 'chile', 'mexico', 'brazil')\n",
    "pick = input('Pick one of the next countries: spain, peru, chile, mexico, brazil')\n",
    "print('You have picked the ', int(countries.index(pick))+1, 'in the list ')"
   ]
  },
  {
   "cell_type": "code",
   "execution_count": null,
   "metadata": {},
   "outputs": [],
   "source": [
    "# Case 070\n",
    "pick1 = input('Pick one of the next countries: spain, peru, chile, mexico, brazil')\n",
    "print('You have picked the ', int(countries.index(pick))+1, 'in the list ',pick)\""
   ]
  },
  {
   "cell_type": "code",
   "execution_count": null,
   "metadata": {},
   "outputs": [],
   "source": [
    "# Case 071\n",
    "sports = ['football', 'tenis']\n",
    "fav = input('What\\'s your favourite sport?')\n",
    "sports.append(fav),\n",
    "print(sorted(sports))"
   ]
  },
  {
   "cell_type": "code",
   "execution_count": 3,
   "metadata": {},
   "outputs": [
    {
     "name": "stdout",
     "output_type": "stream",
     "text": [
      "['history', 'physics', 'math', 'biology', 'english', 'art']\n",
      "Which one of these you don't like? art\n",
      "['history', 'physics', 'math', 'biology', 'english']\n"
     ]
    }
   ],
   "source": [
    "# Case 072\n",
    "school = ['history', 'physics','math','biology','english','art']\n",
    "print(school)\n",
    "d = input('Which one of these you don\\'t like? ')\n",
    "school1 = school.remove(d)\n",
    "print(school)"
   ]
  },
  {
   "cell_type": "code",
   "execution_count": null,
   "metadata": {},
   "outputs": [],
   "source": [
    "# Case 073\n",
    "foods = {}\n",
    "for i in range(4):\n",
    "    food = input('What\\'s your favourite food? ')\n",
    "    if food not in foods:\n",
    "        foods[food] = 1\n",
    "    else:\n",
    "        foods[food] += 1\n",
    "print(foods)\n",
    "e = input('Which one of these you would like to remove? ')\n",
    "del foods[e]\n",
    "print(foods)"
   ]
  },
  {
   "cell_type": "code",
   "execution_count": null,
   "metadata": {},
   "outputs": [],
   "source": [
    "# Case 074\n",
    "colors = ['white','black','green','yellow','red','blue','purple','gold','orange','lightblue']\n",
    "a = int(input( 'Choose a starting number between 0 and 4.'))\n",
    "b = int(input('Choose an end number between 5 and 9. '))\n",
    "print(colors[a:b])"
   ]
  },
  {
   "cell_type": "code",
   "execution_count": null,
   "metadata": {},
   "outputs": [],
   "source": [
    "# Case 075\n",
    "nums = [123, 124, 125, 126]\n",
    "for i in nums:\n",
    "    print(i)\n",
    "    \n",
    "e = int(input('Enter a tree digit number please '))    \n",
    "if e not in nums:\n",
    "    print('That\\\\'s not in the list')\n",
    "else:\n",
    "    print('The position of ,',e, ' in the list is: ',nums.index(e)+1)"
   ]
  },
  {
   "cell_type": "code",
   "execution_count": 4,
   "metadata": {},
   "outputs": [
    {
     "name": "stdout",
     "output_type": "stream",
     "text": [
      "Who are you going to invite to the party? a\n",
      "Who are you going to invite to the party? b\n",
      "Who are you going to invite to the party? c\n",
      "Would you like to invite someone else? [y/n]y\n",
      "Who are you going to invite to the party? a\n",
      "Would you like to invite someone else? [y/n]y\n",
      "Who are you going to invite to the party? d\n",
      "Would you like to invite someone else? [y/n]y\n",
      "Who are you going to invite to the party? e\n",
      "Would you like to invite someone else? [y/n]n\n",
      "6\n"
     ]
    }
   ],
   "source": [
    "# Case 076\n",
    "\n",
    "guests = []\n",
    "for i in range(3):\n",
    "    a = input('Who are you going to invite to the party? ')\n",
    "    guests.append(a)\n",
    "    \n",
    "more = input('Would you like to invite someone else? [y/n]')\n",
    "\n",
    "while more == 'y':\n",
    "        b = input('Who are you going to invite to the party? ')\n",
    "        guests.append(b)\n",
    "        more = input('Would you like to invite someone else? [y/n]')        \n",
    "if more == 'n':\n",
    "    print('There are , ', len(guests), 'people invited to the party')\n"
   ]
  },
  {
   "cell_type": "code",
   "execution_count": 11,
   "metadata": {},
   "outputs": [
    {
     "name": "stdout",
     "output_type": "stream",
     "text": [
      "Who are you going to invite to the party? a\n",
      "Who are you going to invite to the party? b\n",
      "Who are you going to invite to the party? c\n",
      "Would you like to invite someone else? [y/n]y\n",
      "Who are you going to invite to the party? d\n",
      "Would you like to invite someone else? [y/n]n\n",
      "There are ,  9 people invited to the party\n",
      "The list of invited people is:  ['a', 'b', 'c', 'd']\n",
      "Would like to verify one? type their namea\n",
      "His/Her position in the party is:  1\n",
      "Would you like to verify someone else? [y/n]y\n",
      "Who else are you going to verify? b\n",
      "His/Her position in the party is:  2\n",
      "Would you like to verify someone else? [y/n]n\n",
      "The people invited to the party are:  ['a', 'b', 'c', 'd']\n"
     ]
    }
   ],
   "source": [
    "# Case 077\n",
    "\n",
    "guests1 = []\n",
    "for i in range(3):\n",
    "    a = input('Who are you going to invite to the party? ')\n",
    "    guests1.append(a)\n",
    "    \n",
    "more1 = input('Would you like to invite someone else? [y/n]')\n",
    "\n",
    "while more1 == 'y':\n",
    "        b = input('Who are you going to invite to the party? ')\n",
    "        guests1.append(b)\n",
    "        more1 = input('Would you like to invite someone else? [y/n]')        \n",
    "if more == 'n':\n",
    "    print('There are , ', len(guests), 'people invited to the party')\n",
    "\n",
    "print('The list of invited people is: ',guests1)\n",
    "\n",
    "nam = input('Would like to verify one? type their name')\n",
    "print('His/Her position in the party is: ', guests.index(nam)+1)\n",
    "more2 = input('Would you like to verify someone else? [y/n]')\n",
    "              \n",
    "while more2 == 'y':\n",
    "        cd = input('Who else are you going to verify? ')\n",
    "        print('His/Her position in the party is: ', (guests.index(cd)+1))\n",
    "        more2 = input('Would you like to verify someone else? [y/n]')        \n",
    "if more2 == 'n':\n",
    "    print('The people invited to the party are: ', guests1)"
   ]
  },
  {
   "cell_type": "code",
   "execution_count": 13,
   "metadata": {},
   "outputs": [
    {
     "name": "stdout",
     "output_type": "stream",
     "text": [
      "['friends', 'star trek', 'dr. who', 'mr. bean']\n",
      "Add a new tv serie to our list please :) himy\n",
      "In which position would like to place it in the list?1\n",
      "['himy', 'friends', 'star trek', 'dr. who', 'mr. bean']\n"
     ]
    }
   ],
   "source": [
    "# Case 078\n",
    "series = ['friends','star trek','dr. who','mr. bean']\n",
    "print(series)\n",
    "\n",
    "new = input('Add a new tv serie to our list please :) ')\n",
    "pos = int(input('In which position would like to place it in the list?'))\n",
    "\n",
    "series.insert(pos-1,new)\n",
    "print(series)"
   ]
  },
  {
   "cell_type": "code",
   "execution_count": null,
   "metadata": {},
   "outputs": [],
   "source": [
    "numss = []\n",
    "for i in range(3):\n",
    "    number = input('Please enter a number')\n",
    "    numss.append(number)\n",
    "    print(numss)\n",
    "    \n",
    "ask = input('Do you want to save the last number you have entered? [y/n]')\n",
    "if ask =='y':\n",
    "    print('the list is: ', numss)\n",
    "if ask == 'n':\n",
    "    rem = nums[-1]\n",
    "    numss.remove(rem)\n",
    "    print(numss)"
   ]
  },
  {
   "cell_type": "code",
   "execution_count": null,
   "metadata": {},
   "outputs": [],
   "source": []
  }
 ],
 "metadata": {
  "kernelspec": {
   "display_name": "Python 3",
   "language": "python",
   "name": "python3"
  },
  "language_info": {
   "codemirror_mode": {
    "name": "ipython",
    "version": 3
   },
   "file_extension": ".py",
   "mimetype": "text/x-python",
   "name": "python",
   "nbconvert_exporter": "python",
   "pygments_lexer": "ipython3",
   "version": "3.7.4"
  }
 },
 "nbformat": 4,
 "nbformat_minor": 2
}
