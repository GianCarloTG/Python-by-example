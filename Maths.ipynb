{
 "cells": [
  {
   "cell_type": "markdown",
   "metadata": {},
   "source": [
    "### Challenges from page 32"
   ]
  },
  {
   "cell_type": "code",
   "execution_count": 3,
   "metadata": {},
   "outputs": [
    {
     "name": "stdout",
     "output_type": "stream",
     "text": [
      "Please, enter a number with a lot of decimals 3.1416\n",
      "6.2832\n"
     ]
    }
   ],
   "source": [
    "#case 027\n",
    "n = float(input('Please, enter a number with a lot of decimals '))\n",
    "print(n*2)"
   ]
  },
  {
   "cell_type": "code",
   "execution_count": 11,
   "metadata": {},
   "outputs": [
    {
     "name": "stdout",
     "output_type": "stream",
     "text": [
      "Please, enter a number with a lot of decimals 3.77887\n",
      "8 2\n"
     ]
    }
   ],
   "source": [
    "#case 028\n",
    "n1 = float(input('Please, enter a number with a lot of decimals '))\n",
    "n1 =n1*2\n",
    "print(round(n1),2)"
   ]
  },
  {
   "cell_type": "code",
   "execution_count": 12,
   "metadata": {},
   "outputs": [
    {
     "name": "stdout",
     "output_type": "stream",
     "text": [
      "Please, enter a n integer that is over 500555\n",
      "23.56\n"
     ]
    }
   ],
   "source": [
    "#case 029\n",
    "import math\n",
    "n2 = float(input('Please, enter a n integer that is over 500'))\n",
    "sq = round(math.sqrt(n2),2)\n",
    "print(sq)"
   ]
  },
  {
   "cell_type": "code",
   "execution_count": 13,
   "metadata": {},
   "outputs": [
    {
     "name": "stdout",
     "output_type": "stream",
     "text": [
      "3.14159\n"
     ]
    }
   ],
   "source": [
    "#case 030\n",
    "pi = math.pi\n",
    "print(round(pi,5))"
   ]
  },
  {
   "cell_type": "code",
   "execution_count": 16,
   "metadata": {},
   "outputs": [
    {
     "name": "stdout",
     "output_type": "stream",
     "text": [
      "Please, enter the radious of a circle 3\n",
      "28.274333882308138\n"
     ]
    }
   ],
   "source": [
    "#case 031\n",
    "n3 = float(input('Please, enter the radious of a circle '))\n",
    "A = n3*n3*math.pi\n",
    "print(A)"
   ]
  },
  {
   "cell_type": "code",
   "execution_count": 18,
   "metadata": {},
   "outputs": [
    {
     "name": "stdout",
     "output_type": "stream",
     "text": [
      "Please, enter the radious of a cilinder 2\n",
      "Please, enter the depht of a cilinder 4\n",
      "50.26548245743669\n"
     ]
    }
   ],
   "source": [
    "#case 032\n",
    "n4 = float(input('Please, enter the radious of a cilinder '))\n",
    "n5 = float(input('Please, enter the depht of a cilinder '))\n",
    "B = n4*n4*math.pi*n5\n",
    "print(B)"
   ]
  },
  {
   "cell_type": "code",
   "execution_count": 19,
   "metadata": {},
   "outputs": [
    {
     "name": "stdout",
     "output_type": "stream",
     "text": [
      "Please, enter a number 15\n",
      "Please, enter a number again the same if you like it 2\n",
      "15.0  divided by  2.0  is  7.0  with  1.0  remaining.\n"
     ]
    }
   ],
   "source": [
    "#case 033\n",
    "n6 = float(input('Please, enter a number '))\n",
    "n7 = float(input('Please, enter a number again the same if you like it '))\n",
    "C = n6//n7\n",
    "D = n6%n7\n",
    "print(n6,' divided by ',n7,' is ',C,' with ',D,' remaining.')"
   ]
  },
  {
   "cell_type": "code",
   "execution_count": 33,
   "metadata": {},
   "outputs": [
    {
     "name": "stdout",
     "output_type": "stream",
     "text": [
      "1) Square\n",
      "2) Triangle\n",
      " \n",
      "Enter a number:\n",
      "6\n",
      "You have made a wrong selection :(\n"
     ]
    }
   ],
   "source": [
    "#case 034\n",
    "print('1) Square\\n2) Triangle\\n \\nEnter a number:')\n",
    "F = int(input())\n",
    "if F == 1:\n",
    "    G = float(input('What\\'s the lenght of one side of the square'))\n",
    "    print('The area is: ',G*G)\n",
    "if F == 2:\n",
    "    H = float(input('What\\'s the base of one side of the triangle'))\n",
    "    I = float(input('What\\'s the height of one side of the triangle'))\n",
    "    print('The area is: ',H*I/2)\n",
    "else:\n",
    "    print('You have made a wrong selection :(')"
   ]
  }
 ],
 "metadata": {
  "kernelspec": {
   "display_name": "Python 3",
   "language": "python",
   "name": "python3"
  },
  "language_info": {
   "codemirror_mode": {
    "name": "ipython",
    "version": 3
   },
   "file_extension": ".py",
   "mimetype": "text/x-python",
   "name": "python",
   "nbconvert_exporter": "python",
   "pygments_lexer": "ipython3",
   "version": "3.7.4"
  }
 },
 "nbformat": 4,
 "nbformat_minor": 2
}
