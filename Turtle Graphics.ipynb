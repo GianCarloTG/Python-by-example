{
 "cells": [
  {
   "cell_type": "markdown",
   "metadata": {},
   "source": [
    "Challenges from page 53"
   ]
  },
  {
   "cell_type": "code",
   "execution_count": null,
   "metadata": {},
   "outputs": [],
   "source": [
    "# Case 060\n",
    "import turtle\n",
    "\n",
    "for i in range(0, 4):\n",
    "    turtle.forward(100)\n",
    "    turtle.right(90)\n",
    "    \n",
    "turtle.exitonclick()    "
   ]
  },
  {
   "cell_type": "code",
   "execution_count": null,
   "metadata": {},
   "outputs": [],
   "source": [
    "# Case 061\n",
    "for i in range(0, 3):\n",
    "    turtle.forward(100)\n",
    "    turtle.right(120)\n",
    "    \n",
    "turtle.exitonclick()    "
   ]
  },
  {
   "cell_type": "code",
   "execution_count": null,
   "metadata": {},
   "outputs": [],
   "source": [
    "# Case 062\n",
    "for i in range(0, 400):\n",
    "    turtle.forward(1)\n",
    "    turtle.right(1)\n",
    "    \n",
    "turtle.exitonclick()  "
   ]
  },
  {
   "cell_type": "code",
   "execution_count": null,
   "metadata": {},
   "outputs": [],
   "source": [
    "# Case 063\n",
    "for j in range(0,3):\n",
    "    for i in range(0, 4):\n",
    "        turtle.forward(50)\n",
    "        turtle.right(90)\n",
    "    turtle.penup()\n",
    "    turtle.forward(100)\n",
    "    turtle.pendown()\n",
    "    \n",
    "turtle.exitonclick()      \n",
    "    "
   ]
  },
  {
   "cell_type": "code",
   "execution_count": null,
   "metadata": {},
   "outputs": [],
   "source": [
    "# Case 064\n",
    "for i in range(0, 5):\n",
    "    turtle.forward(100)\n",
    "    turtle.right(144)\n",
    "    \n",
    "turtle.exitonclick()  "
   ]
  },
  {
   "cell_type": "code",
   "execution_count": null,
   "metadata": {},
   "outputs": [],
   "source": [
    "# Case 065\n",
    "\n",
    "## number one\n",
    "turtle.left(90)\n",
    "turtle.forward(50)\n",
    "turtle.right(90)\n",
    "turtle.penup()\n",
    "turtle.forward(50)\n",
    "turtle.pendown()\n",
    "\n",
    "## number two\n",
    "turtle.forward(25)\n",
    "turtle.right(90)\n",
    "turtle.forward(25)\n",
    "turtle.right(90)\n",
    "turtle.forward(25)\n",
    "turtle.right(270)\n",
    "turtle.forward(25)\n",
    "turtle.right(270)\n",
    "turtle.forward(25)\n",
    "turtle.penup()\n",
    "turtle.forward(50)\n",
    "turtle.left(90)\n",
    "turtle.forward(50)\n",
    "turtle.pendown()\n",
    "\n",
    "## number tree\n",
    "turtle.right(90)\n",
    "turtle.forward(40)\n",
    "turtle.right(90)\n",
    "turtle.forward(25)\n",
    "turtle.right(90)\n",
    "turtle.forward(25)\n",
    "turtle.right(180)\n",
    "turtle.forward(25)\n",
    "turtle.right(90)\n",
    "turtle.forward(25)\n",
    "turtle.right(90)\n",
    "turtle.forward(40)\n",
    "\n",
    "turtle.exitonclick()      "
   ]
  },
  {
   "cell_type": "code",
   "execution_count": null,
   "metadata": {},
   "outputs": [],
   "source": [
    "# Case 066\n",
    "import random \n",
    "colors = [\"yellow\",\"navy\",\"magenta\",\"cyan\",\"turquoise\",\"green\",\"chocolate\",\"gold\",\"red\"]\n",
    "for i in range(0, 8):\n",
    "    turtle.forward(100)\n",
    "    turtle.right(45)\n",
    "    colore = random.choice(colors)\n",
    "    turtle.color(colore)\n",
    "    \n",
    "turtle.exitonclick() "
   ]
  },
  {
   "cell_type": "code",
   "execution_count": null,
   "metadata": {},
   "outputs": [],
   "source": [
    "# Case 067\n",
    "for i in range (0, 10):\n",
    "    for j in range(0,8):\n",
    "        turtle.forward(50)\n",
    "        turtle.right(45)\n",
    "    turtle.right(35)\n",
    "    \n",
    "turtle.exitonclick()         "
   ]
  },
  {
   "cell_type": "code",
   "execution_count": null,
   "metadata": {},
   "outputs": [],
   "source": [
    "# Case 068\n",
    "\n",
    "num_lines = random.randint(0,100)\n",
    "lenght = random.randint(20,100)\n",
    "angle = random.randint(0,180)\n",
    "for i in range(0, num_lines):\n",
    "    for j in range(0,num_lines):\n",
    "        turtle.forward(lenght)\n",
    "        turtle.right(angle)\n",
    "        \n",
    "turtle.exitonclick()        \n",
    "    "
   ]
  }
 ],
 "metadata": {
  "kernelspec": {
   "display_name": "Python 3",
   "language": "python",
   "name": "python3"
  },
  "language_info": {
   "codemirror_mode": {
    "name": "ipython",
    "version": 3
   },
   "file_extension": ".py",
   "mimetype": "text/x-python",
   "name": "python",
   "nbconvert_exporter": "python",
   "pygments_lexer": "ipython3",
   "version": "3.7.4"
  }
 },
 "nbformat": 4,
 "nbformat_minor": 2
}
