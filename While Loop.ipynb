{
 "cells": [
  {
   "cell_type": "markdown",
   "metadata": {},
   "source": [
    "### Challenges from page 21"
   ]
  },
  {
   "cell_type": "markdown",
   "metadata": {},
   "source": [
    "Challenges from page 42"
   ]
  },
  {
   "cell_type": "code",
   "execution_count": null,
   "metadata": {},
   "outputs": [],
   "source": [
    "#case 045\n",
    "total = 0\n",
    "while 50 >=  total:\n",
    "    a = int(input('Enter a number: '))\n",
    "    total = total + a\n",
    "    print('The total is: ', total)"
   ]
  },
  {
   "cell_type": "code",
   "execution_count": null,
   "metadata": {},
   "outputs": [],
   "source": [
    "#case 046\n",
    "b = 0\n",
    "while b<=5:\n",
    "    b = int(input('Enter a number: ')) \n",
    "\n",
    "print(' The last number you entered was: ', b)"
   ]
  },
  {
   "cell_type": "code",
   "execution_count": null,
   "metadata": {},
   "outputs": [],
   "source": [
    "#case 047\n",
    "c = int(input('Enter a number: ')) \n",
    "d = int(input('Enter a number: ')) \n",
    "e = c+d\n",
    "ans = input('Do you want to add another number?[y/n]')\n",
    "while ans == \"y\":\n",
    "    f = int(input('Enter a number: ')) \n",
    "    e = e+f\n",
    "    ans = input('Do you want to add another number?[y/n]')\n",
    "print(e)"
   ]
  },
  {
   "cell_type": "code",
   "execution_count": null,
   "metadata": {},
   "outputs": [],
   "source": [
    "#case 048\n",
    "count = 1\n",
    "nam = input('Who would be invited to the party? ')\n",
    "print(nam.title(), 'now has been invited.')\n",
    "ans1 = input('Would  invite someone else? [y/n]')\n",
    "while ans1 == 'y':\n",
    "    nam1 = input('Who else would be invited to the party? ')\n",
    "    print(nam1.title(), 'now has been invited.')\n",
    "    count = count + 1\n",
    "    ans1 = input('Would  invite someone else? [y/n]')\n",
    "print(count, ' people has been invited to the party')\n",
    "    "
   ]
  },
  {
   "cell_type": "code",
   "execution_count": null,
   "metadata": {},
   "outputs": [],
   "source": [
    "#case 049\n",
    "count = 0\n",
    "compnum = 50\n",
    "g = 0\n",
    "while g != compnum:\n",
    "    g = int(input(' Guess my number: ')) \n",
    "    count = count +1\n",
    "    if g < compnum:\n",
    "        print('Too low')\n",
    "    if g> compnum:\n",
    "        print('Too high')\n",
    "if g == compnum:\n",
    "    print('Well done, you took ', count,' attempts.')"
   ]
  },
  {
   "cell_type": "code",
   "execution_count": null,
   "metadata": {},
   "outputs": [],
   "source": [
    "#case 050\n",
    "bet = int(input(' Enter a number between 10 and 20: '))\n",
    "while bet< 10 or bet > 20:\n",
    "    if bet < 10:\n",
    "        print('Too low')\n",
    "        bet = int(input('Try it again with another number: '))\n",
    "    if bet > 20:\n",
    "        print('Too high')\n",
    "        bet = int(input('Try it again with another number: '))\n",
    "    \n",
    "print('Thank you :)')"
   ]
  },
  {
   "cell_type": "code",
   "execution_count": null,
   "metadata": {},
   "outputs": [],
   "source": [
    "#case 051\n",
    "bot = 10\n",
    "song = 'There are ', bot,' green bottles hanging on the wall ',bot,'green bottles hanging on the wall,and if 1 green bottle should accidentally fall.'\n",
    "\n",
    "while bot > 0:\n",
    "    print('There are ', bot,' green bottles hanging on the wall ',bot,'green bottles hanging on the wall,and if 1 green bottle should accidentally fall.')\n",
    "    q = int(input('How many green bottles will be hanging on the wall? '))\n",
    "    bot = bot -1\n",
    "    if q == bot:\n",
    "        print('There will be ',bot,' green bottles hanging on the wall')\n",
    "    else:\n",
    "        while q != bot:\n",
    "            print('Try it again')\n",
    "            q = int(input('How many green bottles will be hanging on the wall? '))\n",
    "print('There are no more botles hanging on the wall')"
   ]
  },
  {
   "cell_type": "code",
   "execution_count": null,
   "metadata": {},
   "outputs": [],
   "source": []
  }
 ],
 "metadata": {
  "kernelspec": {
   "display_name": "Python 3",
   "language": "python",
   "name": "python3"
  },
  "language_info": {
   "codemirror_mode": {
    "name": "ipython",
    "version": 3
   },
   "file_extension": ".py",
   "mimetype": "text/x-python",
   "name": "python",
   "nbconvert_exporter": "python",
   "pygments_lexer": "ipython3",
   "version": "3.7.4"
  }
 },
 "nbformat": 4,
 "nbformat_minor": 2
}
