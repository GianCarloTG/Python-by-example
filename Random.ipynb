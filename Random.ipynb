{
 "cells": [
  {
   "cell_type": "markdown",
   "metadata": {},
   "source": [
    "Challenges in page 46"
   ]
  },
  {
   "cell_type": "code",
   "execution_count": null,
   "metadata": {},
   "outputs": [],
   "source": [
    "# Case 052\n",
    "import random\n",
    "num = random.randint(1,100)\n",
    "print(num) \n"
   ]
  },
  {
   "cell_type": "code",
   "execution_count": null,
   "metadata": {},
   "outputs": [],
   "source": [
    "# Case 053\n",
    "fruit = random.choice(['apple', 'banana','strawberry','pineaple','tomato'])\n",
    "print(fruit)"
   ]
  },
  {
   "cell_type": "code",
   "execution_count": null,
   "metadata": {},
   "outputs": [],
   "source": [
    "# Case 054\n",
    "bet = random.choice(['h','t'])\n",
    "choise = input('Choose wisely heads or tails [h/t] ')\n",
    "if choise == bet:\n",
    "    print('You win')\n",
    "else:\n",
    "    print('Bad luck')\n",
    "print( 'My choise was: ',bet)"
   ]
  },
  {
   "cell_type": "code",
   "execution_count": null,
   "metadata": {},
   "outputs": [],
   "source": [
    "# Case 055\n",
    "num1 = random.randint(1,5)\n",
    "choise1 = int(input('Pick a number '))\n",
    "if num1 == choise1:\n",
    "    print('Well done')\n",
    "if choise1>num1:\n",
    "    print('Too high')\n",
    "    choise2 = int(input('Pick a number again '))\n",
    "    if choise2 == num1:\n",
    "        print('You win')\n",
    "    if choise2 != num1:\n",
    "        print('You lose')\n",
    "if choise1<num1:\n",
    "    print('Too low')\n",
    "    choise2 = int(input('Pick a number again '))\n",
    "    if choise2 == num1:\n",
    "        print('You win')\n",
    "    if choise2 != num1:\n",
    "        print('You lose')"
   ]
  },
  {
   "cell_type": "code",
   "execution_count": null,
   "metadata": {},
   "outputs": [],
   "source": [
    "# Case 056\n",
    "num2 = random.randint(1,10)\n",
    "choise3 = int(input('Guess my number '))\n",
    "while num2!=choise3:\n",
    "    choise3 = int(input('Guess my number again '))\n",
    "print('Well done, it was ',num2)"
   ]
  },
  {
   "cell_type": "code",
   "execution_count": null,
   "metadata": {},
   "outputs": [],
   "source": [
    "# Case 057\n",
    "num2 = random.randint(1,10)\n",
    "choise3 = int(input('Guess my number '))\n",
    "while num2!=choise3:\n",
    "    if num2>choise3:\n",
    "        print('Too low')\n",
    "        choise3 = int(input('Guess my number again '))\n",
    "    if num2<choise3:\n",
    "        print('Too high')\n",
    "        choise3 = int(input('Guess my number again '))\n",
    "print('Well done, it was ',num2)\n"
   ]
  },
  {
   "cell_type": "code",
   "execution_count": null,
   "metadata": {},
   "outputs": [],
   "source": [
    "# Case 058\n",
    "num3 = random.randint(1,10)\n",
    "num4 = random.randint(1,10)\n",
    "count = 0\n",
    "print(num3,num4)\n",
    "\n",
    "suma=num3+num4\n",
    "mult = num3*num4\n",
    "mult1 = (num3+num4)*num4\n",
    "mult2= num3*num3*num4\n",
    "mult3 = (num3+num4)*num3\n",
    "\n",
    "print('What is the result of: ',num3,'+',num4)\n",
    "s = int(input('Answer '))\n",
    "if s==suma:\n",
    "    count = count+1\n",
    "print('What is the result of: ',num3,'*',num4)\n",
    "m = int(input('Answer '))\n",
    "if m==mult:\n",
    "    count = count+1\n",
    "print('What is the result of: (',num3,'+',num4,')*',num4)\n",
    "m1 = int(input('Answer '))\n",
    "if m1==mult1:\n",
    "    count = count+1\n",
    "print('What is the result of: ',num3,'*',num3,'*',num4)\n",
    "m2 = int(input('Answer '))\n",
    "if m2==mult2:\n",
    "    count = count+1\n",
    "print('What is the result of: (',num3,'+',num4,')*',num3)\n",
    "m3 = int(input('Answer '))\n",
    "if m3==mult3:\n",
    "    count = count+1\n",
    "    \n",
    "print('You got ',count,' correct answers')"
   ]
  },
  {
   "cell_type": "code",
   "execution_count": null,
   "metadata": {},
   "outputs": [],
   "source": [
    "# Case 059\n",
    "pick = random.choice(['red','blue','yellow','green','purple'])\n",
    "choise = input('Pick a color: red, blue, yellow, green, purple')\n",
    "\n",
    "while choise != pick:\n",
    "    if pick == 'red':\n",
    "        print('A red sun rises. Blood has been spilled this night. ')\n",
    "        choise = input('Choise again ')\n",
    "    if pick == 'blue':\n",
    "        print('You are probably feeling BLUE right now')\n",
    "        choise = input('Choise again ')\n",
    "    if pick == 'yellow':\n",
    "        print('Oh I\\'ve finally decided my future lies Beyond the yellow brick road')\n",
    "        choise = input('Choise again ')\n",
    "    if pick == 'green':\n",
    "        print('I bet you are GREEN with envy')\n",
    "        choise = input('Choise again ')\n",
    "    if pick == 'purple':\n",
    "        print('Purple haze all in my brain Lately things they don\\'t seem the same')\n",
    "        choise = input('Choise again ')\n",
    "if choise == pick:\n",
    "    print('Well done')\n"
   ]
  },
  {
   "cell_type": "code",
   "execution_count": null,
   "metadata": {},
   "outputs": [],
   "source": []
  }
 ],
 "metadata": {
  "kernelspec": {
   "display_name": "Python 3",
   "language": "python",
   "name": "python3"
  },
  "language_info": {
   "codemirror_mode": {
    "name": "ipython",
    "version": 3
   },
   "file_extension": ".py",
   "mimetype": "text/x-python",
   "name": "python",
   "nbconvert_exporter": "python",
   "pygments_lexer": "ipython3",
   "version": "3.7.4"
  }
 },
 "nbformat": 4,
 "nbformat_minor": 2
}
