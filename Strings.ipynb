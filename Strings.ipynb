{
 "cells": [
  {
   "cell_type": "markdown",
   "metadata": {},
   "source": [
    "### Challenges from page 28"
   ]
  },
  {
   "cell_type": "code",
   "execution_count": 1,
   "metadata": {},
   "outputs": [
    {
     "name": "stdout",
     "output_type": "stream",
     "text": [
      "What is your name?Gian\n",
      "4\n"
     ]
    }
   ],
   "source": [
    "# Case 020\n",
    "name = input('What is your name?')\n",
    "print(len(name))"
   ]
  },
  {
   "cell_type": "code",
   "execution_count": 2,
   "metadata": {},
   "outputs": [
    {
     "name": "stdout",
     "output_type": "stream",
     "text": [
      "What is your name?gian\n",
      "What is your surname?tej\n",
      "gian tej 7\n"
     ]
    }
   ],
   "source": [
    "# Case 021\n",
    "name_1 = input('What is your name?')\n",
    "surname = input('What is your surname?')\n",
    "print( name_1+' '+surname, len(name_1+surname))"
   ]
  },
  {
   "cell_type": "code",
   "execution_count": 4,
   "metadata": {},
   "outputs": [
    {
     "name": "stdout",
     "output_type": "stream",
     "text": [
      "Put your name in lowercaseqwe\n",
      "Put your surname in lowercaserty\n",
      "Qwe Rty\n"
     ]
    }
   ],
   "source": [
    "# Case 022\n",
    "name_2 = input('Put your name in lowercase')\n",
    "surname_1 = input('Put your surname in lowercase')\n",
    "print(name_2.title()+' '+surname_1.title())"
   ]
  },
  {
   "cell_type": "code",
   "execution_count": 10,
   "metadata": {},
   "outputs": [
    {
     "name": "stdout",
     "output_type": "stream",
     "text": [
      "type a nursery rhyme qwe\n",
      "Type a number to start 1\n",
      "Type a number to finish 2\n",
      "The len is:  3 ,the frase under the numbers you have picked is:  qw\n"
     ]
    }
   ],
   "source": [
    "# Case 023\n",
    "nur = input('type a nursery rhyme ')\n",
    "st = int(input('Type a number to start '))\n",
    "fs = int(input('Type a number to finish '))\n",
    "print('The len is: ',len(nur),',the frase under the numbers you have picked is: ',nur[st-1:fs])"
   ]
  },
  {
   "cell_type": "code",
   "execution_count": 12,
   "metadata": {},
   "outputs": [
    {
     "name": "stdout",
     "output_type": "stream",
     "text": [
      "Display any word and I will put it in upper case jojo\n",
      "JOJO\n"
     ]
    }
   ],
   "source": [
    "# Case 024\n",
    "wr = input('Display any word and I will put it in upper case ')\n",
    "print(wr.upper())"
   ]
  },
  {
   "cell_type": "code",
   "execution_count": 15,
   "metadata": {},
   "outputs": [
    {
     "name": "stdout",
     "output_type": "stream",
     "text": [
      "What is your name? jojo\n",
      "Pleae type your surname jostar\n",
      "JOJOJOSTAR\n"
     ]
    }
   ],
   "source": [
    "# Case 025\n",
    "name_2 = input('What is your name? ')\n",
    "if len(name_2)<5:\n",
    "    surn = input('Pleae type your surname ')\n",
    "    ns = name_2+surn\n",
    "    print(ns.upper())\n",
    "else:\n",
    "    print(name_2.lower())"
   ]
  },
  {
   "cell_type": "code",
   "execution_count": 17,
   "metadata": {},
   "outputs": [
    {
     "name": "stdout",
     "output_type": "stream",
     "text": [
      "Please enter a word to play Pig Latin :)aple\n",
      "pleaay\n"
     ]
    }
   ],
   "source": [
    "# Case 026\n",
    "wrds = input('Please enter a word to play Pig Latin :)')\n",
    "if wrds[0] != 'a' or wrds[0] != 'e' or wrds[0] != 'i' or wrds[0] != 'o' or wrds[0] != 'u':\n",
    "    wrds = wrds[1:]+wrds[0]+'ay'\n",
    "    print(wrds)\n",
    "else:\n",
    "    wrds = wrds+'way'\n",
    "    print(wrds)"
   ]
  },
  {
   "cell_type": "code",
   "execution_count": null,
   "metadata": {},
   "outputs": [],
   "source": []
  }
 ],
 "metadata": {
  "kernelspec": {
   "display_name": "Python 3",
   "language": "python",
   "name": "python3"
  },
  "language_info": {
   "codemirror_mode": {
    "name": "ipython",
    "version": 3
   },
   "file_extension": ".py",
   "mimetype": "text/x-python",
   "name": "python",
   "nbconvert_exporter": "python",
   "pygments_lexer": "ipython3",
   "version": "3.7.4"
  }
 },
 "nbformat": 4,
 "nbformat_minor": 2
}
