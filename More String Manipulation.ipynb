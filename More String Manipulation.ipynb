{
 "cells": [
  {
   "cell_type": "markdown",
   "metadata": {},
   "source": [
    "Challenges from page 69"
   ]
  },
  {
   "cell_type": "code",
   "execution_count": null,
   "metadata": {},
   "outputs": [],
   "source": [
    "# Case 80\n",
    "name = input('What\\'s your first name?')\n",
    "print(len(name))\n",
    "sur = input('What\\'s your surname?')\n",
    "print(len(sur))\n",
    "ns = name+' '+sur\n",
    "print(ns, len(ns))"
   ]
  },
  {
   "cell_type": "code",
   "execution_count": null,
   "metadata": {},
   "outputs": [],
   "source": [
    "# Case 81\n",
    "sub = input('What\\'s your favourite subject?')\n",
    "for i in sub:\n",
    "    print(i,end='-')"
   ]
  },
  {
   "cell_type": "code",
   "execution_count": null,
   "metadata": {},
   "outputs": [],
   "source": [
    "# Case 82\n",
    "poem = \"\"\"I celebrate myself, and sing myself,\n",
    "            And what I assume you shall assume,\n",
    "                For every atom belonging to me as good belongs to you.\n",
    "                I loafe and invite my soul,\n",
    "                    I lean and loafe at my ease observing a spear of summer grass.\"\"\"\n",
    "print(poem)\n",
    "print('\\n')\n",
    "start = int(input('Which position would you like to start '))-1\n",
    "end = int(input('Which position would you like to finish '))\n",
    "\n",
    "print(poem[start:end])"
   ]
  },
  {
   "cell_type": "code",
   "execution_count": 1,
   "metadata": {},
   "outputs": [
    {
     "name": "stdout",
     "output_type": "stream",
     "text": [
      "Type a word in uppercase pleaseeqweq\n",
      "Try it again\n",
      "Type a word in uppercase pleaseeqweqweq\n",
      "Try it again\n",
      "Type a word in uppercase pleaseQWEQE\n",
      "Thank you\n"
     ]
    }
   ],
   "source": [
    "# Case 83\n",
    "up = input('Type a word in uppercase please')\n",
    "trial = False\n",
    "while trial == False:\n",
    "    if up == up.lower():\n",
    "        print('Try it again')\n",
    "        up = input('Type a word in uppercase please ')\n",
    "        trial = False\n",
    "    if up == up.upper():\n",
    "        print('Thank you')\n",
    "        trial = True"
   ]
  },
  {
   "cell_type": "code",
   "execution_count": 5,
   "metadata": {},
   "outputs": [
    {
     "name": "stdout",
     "output_type": "stream",
     "text": [
      "Type your postal code please qweqe\n",
      "Q\n",
      "W\n"
     ]
    }
   ],
   "source": [
    "# Case 84\n",
    "code = input('Type your postal code please ')\n",
    "for i in code[:2]:\n",
    "    print(i.upper())"
   ]
  },
  {
   "cell_type": "code",
   "execution_count": 6,
   "metadata": {},
   "outputs": [
    {
     "name": "stdout",
     "output_type": "stream",
     "text": [
      "Tell us your name please gian\n",
      "Your name has  2  vowels\n"
     ]
    }
   ],
   "source": [
    "# Case 85\n",
    "name = input('Tell us your name please ')\n",
    "vows = 0\n",
    "for i in name:\n",
    "    if i == 'a' or i == 'e' or i == 'o' or i == 'i' or i == 'u':\n",
    "        vows += 1\n",
    "    else: \n",
    "        vows = vows\n",
    "print('Your name has ',vows, ' vowels')"
   ]
  },
  {
   "cell_type": "code",
   "execution_count": 14,
   "metadata": {},
   "outputs": [
    {
     "name": "stdout",
     "output_type": "stream",
     "text": [
      "Enter a new password AAA\n",
      "Enter the password againAaA\n",
      "They must be in the same case :/ \n"
     ]
    }
   ],
   "source": [
    "# Case 86\n",
    "pass1 = input('Enter a new password ')\n",
    "pass2 = input('Enter the password again')\n",
    "if pass1 == pass2:\n",
    "    print('Thank you :) ')\n",
    "else:\n",
    "    if pass1 == pass2.lower() or pass1==pass2.upper():\n",
    "        print('They must be in the same case :/ ')\n",
    "    else:\n",
    "        print('Incorrect')"
   ]
  },
  {
   "cell_type": "code",
   "execution_count": 23,
   "metadata": {},
   "outputs": [
    {
     "name": "stdout",
     "output_type": "stream",
     "text": [
      "Type a word heee\n",
      "e\n",
      "e\n",
      "e\n",
      "h\n"
     ]
    }
   ],
   "source": [
    "wrd = input('Type a word ')\n",
    "lenght = int(len(wrd))\n",
    "count = 1\n",
    "for i in wrd:\n",
    "    pos = lenght - count\n",
    "    print(wrd[pos])\n",
    "    count = count +1"
   ]
  },
  {
   "cell_type": "code",
   "execution_count": null,
   "metadata": {},
   "outputs": [],
   "source": []
  }
 ],
 "metadata": {
  "kernelspec": {
   "display_name": "Python 3",
   "language": "python",
   "name": "python3"
  },
  "language_info": {
   "codemirror_mode": {
    "name": "ipython",
    "version": 3
   },
   "file_extension": ".py",
   "mimetype": "text/x-python",
   "name": "python",
   "nbconvert_exporter": "python",
   "pygments_lexer": "ipython3",
   "version": "3.7.4"
  }
 },
 "nbformat": 4,
 "nbformat_minor": 2
}
